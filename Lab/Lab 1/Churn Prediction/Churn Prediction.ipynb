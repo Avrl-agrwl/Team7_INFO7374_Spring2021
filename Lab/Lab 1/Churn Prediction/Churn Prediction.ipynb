{
 "cells": [
  {
   "cell_type": "markdown",
   "metadata": {},
   "source": [
    "# Churn Prediction Customer Modelling using Lightgbm"
   ]
  },
  {
   "cell_type": "code",
   "execution_count": 68,
   "metadata": {},
   "outputs": [],
   "source": [
    "# Importing the required  modules\n",
    "\n",
    "import pandas as pd\n",
    "import numpy as np\n",
    "import seaborn as sns\n",
    "import matplotlib.pyplot as plt\n",
    "\n",
    "import  lightgbm as lgb\n",
    "from tabulate import tabulate\n",
    "from sklearn.model_selection import train_test_split, GridSearchCV\n",
    "from sklearn.metrics import confusion_matrix, accuracy_score, roc_curve, auc\n",
    "import warnings\n",
    "warnings.filterwarnings('ignore')\n"
   ]
  },
  {
   "cell_type": "code",
   "execution_count": 69,
   "metadata": {},
   "outputs": [],
   "source": [
    "# Defining Visualization functions:\n",
    "\n",
    "\n",
    "def print_df(df):\n",
    "    print(tabulate(df.head(10), headers='keys', tablefmt='psql'))\n",
    "    print(f'{len(df)} rows x {len(df.columns)} columns')\n",
    "    \n",
    "def plot_roc(y_test, y_hat_prob):\n",
    "    plt.figure(figsize=(8, 8))\n",
    "    false_positive_rate, recall, thresholds = roc_curve(y_test, y_hat_prob)\n",
    "    roc_auc = auc(false_positive_rate, recall)\n",
    "    plt.title('Receiver Operating Characteristic (ROC)')\n",
    "    plt.plot(false_positive_rate, recall, 'r', label = 'AUC = %0.3f' % roc_auc)\n",
    "    plt.fill_between(false_positive_rate, recall, color='r', alpha=0.05)\n",
    "    plt.grid(True)\n",
    "    plt.legend(loc='lower right')\n",
    "    plt.plot([0,1], [0,1], 'k--')\n",
    "    plt.xlim([0.0,1.0])\n",
    "    plt.ylim([0.0,1.0])\n",
    "    plt.ylabel('Recall')\n",
    "    plt.xlabel('Fall-out (1 - Specificity)')\n",
    "    plt.savefig('roc.pdf')\n",
    "    plt.show()\n",
    "    \n",
    "def plot_confusion_matrix(y, y_hat_prob, labels):\n",
    "    y_hat = np.where(y_hat_prob > 0.5, 1, 0) # probability to 0-1 binary\n",
    "    cm = confusion_matrix(y, y_hat)\n",
    "    accuracy = accuracy_score(y, y_hat)\n",
    "    plt.figure(figsize=(4, 4));\n",
    "    sns.heatmap(cm, xticklabels = labels, yticklabels = labels, \n",
    "                annot = True, cbar=False, fmt='d', annot_kws={'size': 16}, \n",
    "                cmap=\"YlGnBu\", vmin = 0.2);\n",
    "    plt.title(f'Confusion Matrix\\n({len(y)} samples, accuracy {accuracy:.3f})')\n",
    "    plt.ylabel('True Class')\n",
    "    plt.xlabel('Predicted Class')\n",
    "    plt.savefig('confusion.pdf')\n",
    "    plt.show()\n"
   ]
  },
  {
   "cell_type": "markdown",
   "metadata": {},
   "source": [
    "### Importing data:"
   ]
  },
  {
   "cell_type": "code",
   "execution_count": 70,
   "metadata": {},
   "outputs": [],
   "source": [
    "\n",
    "#users_data\n",
    "df_users = pd.read_csv('users.csv.zip', index_col='uid', parse_dates=['registration_date'])\n"
   ]
  },
  {
   "cell_type": "code",
   "execution_count": 71,
   "metadata": {},
   "outputs": [],
   "source": [
    "#user_logs data\n",
    "df_logs = pd.read_csv('usage_logs.csv.zip', parse_dates=['date'])\n",
    "df_logs=df_logs.drop(columns=['items'])"
   ]
  },
  {
   "cell_type": "code",
   "execution_count": 72,
   "metadata": {},
   "outputs": [],
   "source": [
    "#Before considering column 'uid' as an index columns, we need to consider only the non-nan values:\n",
    "df_logs = df_logs[df_logs['uid'].notna()]"
   ]
  },
  {
   "cell_type": "code",
   "execution_count": 73,
   "metadata": {},
   "outputs": [],
   "source": [
    "#setting uid as index colum :\n",
    "df_logs=df_logs.set_index('uid')"
   ]
  },
  {
   "cell_type": "code",
   "execution_count": 74,
   "metadata": {},
   "outputs": [
    {
     "name": "stdout",
     "output_type": "stream",
     "text": [
      "+-------+------------+-------+----------+------------------------+---------------------+------------+\n",
      "|   uid |   location |   age | gender   |   registration_channel | registration_date   |   is_churn |\n",
      "|-------+------------+-------+----------+------------------------+---------------------+------------|\n",
      "|     0 |         15 |    17 | female   |                      3 | 2014-10-21 00:00:00 |          1 |\n",
      "|     1 |         13 |    40 | female   |                      9 | 2006-05-26 00:00:00 |          0 |\n",
      "|     2 |         14 |    23 | male     |                      9 | 2007-03-25 00:00:00 |          1 |\n",
      "|     3 |          1 |    19 | female   |                      3 | 2014-11-02 00:00:00 |          1 |\n",
      "|     4 |          1 |     0 | nan      |                      9 | 2014-11-08 00:00:00 |          1 |\n",
      "|     5 |         21 |    21 | male     |                      9 | 2007-10-12 00:00:00 |          1 |\n",
      "|     6 |          1 |     0 | nan      |                      7 | 2014-04-16 00:00:00 |          1 |\n",
      "|     7 |          5 |     0 | nan      |                      9 | 2013-02-06 00:00:00 |          1 |\n",
      "|     8 |         13 |    18 | female   |                      9 | 2013-02-06 00:00:00 |          0 |\n",
      "|     9 |          5 |    29 | male     |                      9 | 2013-02-12 00:00:00 |          1 |\n",
      "+-------+------------+-------+----------+------------------------+---------------------+------------+\n",
      "8979 rows x 6 columns\n",
      "+-------+---------------------+---------+------------+------------+\n",
      "|   uid | date                |   views |   duration |   previews |\n",
      "|-------+---------------------+---------+------------+------------|\n",
      "|     1 | 2015-02-18 00:00:00 |       5 |       2126 |          2 |\n",
      "|     1 | 2015-04-12 00:00:00 |      12 |       3821 |          3 |\n",
      "|     1 | 2015-06-01 00:00:00 |       4 |       1387 |          2 |\n",
      "|     1 | 2015-07-22 00:00:00 |      12 |       5713 |         17 |\n",
      "|     1 | 2015-09-12 00:00:00 |      40 |      10374 |          8 |\n",
      "|     1 | 2015-11-02 00:00:00 |      46 |      12822 |         17 |\n",
      "|     1 | 2015-12-22 00:00:00 |      18 |       5485 |          6 |\n",
      "|     1 | 2016-02-11 00:00:00 |       5 |       2419 |          9 |\n",
      "|     1 | 2016-04-01 00:00:00 |      20 |       5683 |          6 |\n",
      "|     1 | 2016-05-23 00:00:00 |       6 |       2011 |          0 |\n",
      "+-------+---------------------+---------+------------+------------+\n",
      "2324214 rows x 4 columns\n"
     ]
    }
   ],
   "source": [
    "print_df(df_users)\n",
    "print_df(df_logs)"
   ]
  },
  {
   "cell_type": "code",
   "execution_count": 75,
   "metadata": {},
   "outputs": [
    {
     "name": "stdout",
     "output_type": "stream",
     "text": [
      "Churners: 4556 (50.74%)\n",
      "Users without events: 76\n"
     ]
    }
   ],
   "source": [
    "#aggregating 'is_churn'to find the total number of churners:\n",
    "n_churners = df_users['is_churn'].sum()\n",
    "print(f\"Churners: {n_churners} ({n_churners/len(df_users):.2%})\")\n",
    "print(f\"Users without events: {len(set(df_users.index).difference(set(df_logs.index)))}\")"
   ]
  },
  {
   "cell_type": "markdown",
   "metadata": {},
   "source": [
    "## Step 1: Baseline Model Using Aggregated Features and LightGBM"
   ]
  },
  {
   "cell_type": "code",
   "execution_count": 54,
   "metadata": {},
   "outputs": [
    {
     "name": "stdout",
     "output_type": "stream",
     "text": [
      "+-------+------------+-------+------------------------+------------+---------+------------------+------------+------------+-----------------+---------------+\n",
      "|   uid |   location |   age |   registration_channel |   is_churn |   views |         duration |   previews |   reg_days |   gender_female |   gender_male |\n",
      "|-------+------------+-------+------------------------+------------+---------+------------------+------------+------------+-----------------+---------------|\n",
      "|     0 |         15 |    17 |                      3 |          1 |    2634 | 883533           |       4544 |        856 |               1 |             0 |\n",
      "|     1 |         13 |    40 |                      9 |          0 |   22987 |      6.46504e+06 |       7135 |       3926 |               1 |             0 |\n",
      "|     2 |         14 |    23 |                      9 |          1 |   52439 |      1.35129e+07 |       4897 |       3623 |               0 |             1 |\n",
      "|     3 |          1 |    19 |                      3 |          1 |    5337 |      1.48127e+06 |       2000 |        844 |               1 |             0 |\n",
      "|     4 |          1 |     0 |                      9 |          1 |   20663 |      5.19451e+06 |       7196 |        838 |               0 |             0 |\n",
      "|     5 |         21 |    21 |                      9 |          1 |   12390 |      3.54899e+06 |       1491 |       3422 |               0 |             1 |\n",
      "|     6 |          1 |     0 |                      7 |          1 |    1700 | 438481           |        332 |       1044 |               0 |             0 |\n",
      "|     7 |          5 |     0 |                      9 |          1 |     259 |  68796           |         77 |       1478 |               0 |             0 |\n",
      "|     8 |         13 |    18 |                      9 |          0 |     489 | 168604           |        591 |       1478 |               1 |             0 |\n",
      "|     9 |          5 |    29 |                      9 |          1 |    4376 |      1.30479e+06 |       2001 |       1472 |               0 |             1 |\n",
      "+-------+------------+-------+------------------------+------------+---------+------------------+------------+------------+-----------------+---------------+\n",
      "8979 rows x 10 columns\n"
     ]
    }
   ],
   "source": [
    "# Feature engineerig for LightGBM\n",
    "\n",
    "profiles = df_users.join(df_logs.drop(columns='date').groupby('uid').agg('sum'), on='uid')\n",
    "profiles['reg_days'] = (profiles['registration_date'].max() - profiles['registration_date']).dt.days\n",
    "profiles = pd.get_dummies(profiles, columns=['gender'])\n",
    "profiles.drop(columns=['registration_date'], inplace=True)\n",
    "print_df(profiles)"
   ]
  },
  {
   "cell_type": "code",
   "execution_count": 76,
   "metadata": {},
   "outputs": [],
   "source": [
    "# Train test split\n",
    "x, y = profiles.drop(columns='is_churn'), profiles['is_churn']\n",
    "x_train, x_test, y_train, y_test = train_test_split(x, y, test_size=0.25, random_state=42)"
   ]
  },
  {
   "cell_type": "code",
   "execution_count": 77,
   "metadata": {
    "scrolled": true
   },
   "outputs": [
    {
     "name": "stdout",
     "output_type": "stream",
     "text": [
      "Fitting 4 folds for each of 90 candidates, totalling 360 fits\n"
     ]
    },
    {
     "name": "stderr",
     "output_type": "stream",
     "text": [
      "[Parallel(n_jobs=-1)]: Using backend LokyBackend with 8 concurrent workers.\n",
      "[Parallel(n_jobs=-1)]: Done  34 tasks      | elapsed:    3.4s\n",
      "[Parallel(n_jobs=-1)]: Done 280 tasks      | elapsed:    8.8s\n"
     ]
    },
    {
     "name": "stdout",
     "output_type": "stream",
     "text": [
      "Best params: {'colsample_bytree': 0.6, 'learning_rate': 0.07, 'n_estimators': 64, 'num_leaves': 20}\n",
      "Best score: 0.6982520820895838\n",
      "Fitting with params: {'max_depth': -1, 'num_leaves': 20, 'learning_rate': 0.07, 'max_bin': 512, 'subsample_for_bin': 200, 'subsample': 1, 'subsample_freq': 1, 'colsample_bytree': 0.6, 'num_class': 1, 'metric': 'binary_error', 'n_estimators': 64}\n",
      "[LightGBM] [Warning] Using too small ``bin_construct_sample_cnt`` may encounter unexpected errors and poor accuracy.\n",
      "[LightGBM] [Warning] Auto-choosing col-wise multi-threading, the overhead of testing was 0.000238 seconds.\n",
      "You can set `force_col_wise=true` to remove the overhead.\n",
      "[LightGBM] [Info] Total Bins 317\n",
      "[LightGBM] [Info] Number of data points in the train set: 6734, number of used features: 9\n",
      "[LightGBM] [Info] Start training from score 0.504455\n"
     ]
    },
    {
     "name": "stderr",
     "output_type": "stream",
     "text": [
      "[Parallel(n_jobs=-1)]: Done 360 out of 360 | elapsed:   10.8s finished\n"
     ]
    }
   ],
   "source": [
    "\n",
    "train_data = lgb.Dataset(x_train, label=y_train)\n",
    "# Model hyper-parameters\n",
    "params = {'max_depth' : -1,\n",
    "          'num_leaves': 64,\n",
    "          'learning_rate': 0.07,\n",
    "          'max_bin': 512,\n",
    "          'subsample_for_bin': 200,\n",
    "          'subsample': 1,\n",
    "          'subsample_freq': 1,\n",
    "          'colsample_bytree': 0.8,\n",
    "          'num_class' : 1,\n",
    "          'metric' : 'binary_error'\n",
    "          }\n",
    "\n",
    "# Parameters to tune\n",
    "gridParams = {\n",
    "    'learning_rate': [0.02, 0.05, 0.07],\n",
    "    'n_estimators': [8, 16, 32, 64, 128],\n",
    "    'num_leaves': [20, 24, 28],\n",
    "    'colsample_bytree' : [0.60, 0.65]\n",
    "    }\n",
    "\n",
    "# Create the classifier\n",
    "mdl = lgb.LGBMClassifier(boosting_type= 'gbdt',\n",
    "          objective = 'binary',\n",
    "          n_jobs = 5, \n",
    "          silent = True,\n",
    "          max_depth = params['max_depth'],\n",
    "          max_bin = params['max_bin'],\n",
    "          subsample_for_bin = params['subsample_for_bin'],\n",
    "          subsample = params['subsample'],\n",
    "          subsample_freq = params['subsample_freq'])\n",
    "\n",
    "mdl.get_params().keys()\n",
    "\n",
    "# Create the grid\n",
    "grid = GridSearchCV(mdl, gridParams, verbose=1, cv=4, n_jobs=-1)\n",
    "\n",
    "# Search for optimal parameters\n",
    "grid.fit(x_train, y_train)\n",
    "\n",
    "# Print the best parameters values\n",
    "print(f'Best params: {grid.best_params_}')\n",
    "print(f'Best score: {grid.best_score_}')\n",
    "\n",
    "params['colsample_bytree'] = grid.best_params_['colsample_bytree']\n",
    "params['learning_rate'] = grid.best_params_['learning_rate']\n",
    "params['num_leaves'] = grid.best_params_['num_leaves']\n",
    "params['n_estimators'] = grid.best_params_['n_estimators']\n",
    "\n",
    "print(f'Fitting with params: {params}')\n",
    "\n",
    "# Train the model on the selected parameters\n",
    "lgbm = lgb.train(params,\n",
    "                 train_data,\n",
    "                 num_boost_round=200,\n",
    "                 verbose_eval= 4)"
   ]
  },
  {
   "cell_type": "markdown",
   "metadata": {},
   "source": [
    "### Plot accuracy measures and diagnostic information"
   ]
  },
  {
   "cell_type": "code",
   "execution_count": 78,
   "metadata": {},
   "outputs": [
    {
     "data": {
      "image/png": "[encoded data removed]",
      "text/plain": [
       "<Figure size 576x432 with 1 Axes>"
      ]
     },
     "metadata": {
      "needs_background": "light"
     },
     "output_type": "display_data"
    },
    {
     "data": {
      "image/png": "[encoded data removed]",
      "text/plain": [
       "<Figure size 576x576 with 1 Axes>"
      ]
     },
     "metadata": {
      "needs_background": "light"
     },
     "output_type": "display_data"
    },
    {
     "data": {
      "image/png": "[encoded data removed]",
      "text/plain": [
       "<Figure size 288x288 with 1 Axes>"
      ]
     },
     "metadata": {
      "needs_background": "light"
     },
     "output_type": "display_data"
    }
   ],
   "source": [
    "\n",
    "# Predict on test set\n",
    "predictions_lgbm_prob = lgbm.predict(x_test)\n",
    "\n",
    "# Plot feature importances\n",
    "lgb.plot_importance(lgbm, max_num_features=21, importance_type='split',\n",
    "                    height=0.5, color='#1f2db4', alpha=0.8, figsize=(8, 6))\n",
    "\n",
    "# plot ROC\n",
    "plot_roc(y_test, predictions_lgbm_prob)\n",
    "\n",
    "# plot confusion matrix\n",
    "plot_confusion_matrix(y_test, predictions_lgbm_prob, ['No Churn', 'Churn'])"
   ]
  }
 ],
 "metadata": {
  "kernelspec": {
   "display_name": "Python 3",
   "language": "python",
   "name": "python3"
  },
  "language_info": {
   "codemirror_mode": {
    "name": "ipython",
    "version": 3
   },
   "file_extension": ".py",
   "mimetype": "text/x-python",
   "name": "python",
   "nbconvert_exporter": "python",
   "pygments_lexer": "ipython3",
   "version": "3.8.5"
  }
 },
 "nbformat": 4,
 "nbformat_minor": 4
}
